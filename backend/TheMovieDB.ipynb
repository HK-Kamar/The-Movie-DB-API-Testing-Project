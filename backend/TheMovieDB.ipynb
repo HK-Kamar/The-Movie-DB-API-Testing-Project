{
 "cells": [
  {
   "cell_type": "code",
   "execution_count": 1,
   "id": "figured-maximum",
   "metadata": {},
   "outputs": [],
   "source": [
    "\"\"\"\n",
    "Created on Mon Aug  2 13:08:28 2021\n",
    "\n",
    "@author: HK\n",
    "\"\"\"\n",
    "import requests\n",
    "import json\n",
    "import mysql.connector\n",
    "import flask"
   ]
  },
  {
   "cell_type": "code",
   "execution_count": 2,
   "id": "interpreted-lawyer",
   "metadata": {},
   "outputs": [],
   "source": [
    "def get_json_data(query):\n",
    "    response =  requests.get(query)\n",
    "    if (response.status_code == 200): \n",
    "        array = response.json()\n",
    "        text = json.dumps(array)\n",
    "        return (text)\n",
    "    else:\n",
    "        return (\"Error\")"
   ]
  },
  {
   "cell_type": "code",
   "execution_count": 3,
   "id": "particular-least",
   "metadata": {},
   "outputs": [],
   "source": [
    "def provider_checker(series_ID,API_key):\n",
    "    query = 'https://api.themoviedb.org/3/tv/'\n",
    "    query += str(series_ID) + '/watch/providers?'\n",
    "    query += 'api_key=' + API_key\n",
    "    #query += '&locale=TR'\n",
    "    \n",
    "    text = get_json_data(query)\n",
    "    if text != 'Error':\n",
    "        dataset = json.loads(text)\n",
    "        try:\n",
    "            provider = dataset['results']['TR']['flatrate'][0]['provider_name']\n",
    "            if provider == 'Amazon Prime Video':\n",
    "                return True\n",
    "        except:\n",
    "            return False      \n",
    "    "
   ]
  },
  {
   "cell_type": "code",
   "execution_count": 4,
   "id": "former-walker",
   "metadata": {},
   "outputs": [],
   "source": [
    "#Making the database connection\n",
    "def connect_to_db():\n",
    "    mydb = mysql.connector.connect(\n",
    "        host=\"localhost\",\n",
    "        user=\"root\",\n",
    "        password=\"123456\",\n",
    "        database=\"themoviedb\"\n",
    "    )\n",
    "    return mydb"
   ]
  },
  {
   "cell_type": "code",
   "execution_count": 5,
   "id": "three-aaron",
   "metadata": {},
   "outputs": [],
   "source": [
    "def insert_series_to_db(series_id, name, overview, number_of_seasons, number_of_episodes, \n",
    "                popularity, vote_average,vote_count, first_air_date, last_air_date, status):\n",
    "    mycursor = mydb.cursor()\n",
    "\n",
    "    sql = \"INSERT IGNORE INTO TV_SERIES (ID,Name,Overview,Number_of_Seasons,Number_of_Episodes,Popularity,Vote_Average,Vote_Count,First_Air_Date,Last_Air_Date,Status) VALUES (%s, %s, %s, %s, %s, %s, %s, %s, %s, %s, %s)\"\n",
    "    val = (series_id, name, overview, number_of_seasons, number_of_episodes, \n",
    "            popularity, vote_average,vote_count, first_air_date, last_air_date, status)\n",
    "    mycursor.execute(sql, val)\n",
    "\n",
    "    mydb.commit()"
   ]
  },
  {
   "cell_type": "code",
   "execution_count": 6,
   "id": "marked-spider",
   "metadata": {},
   "outputs": [],
   "source": [
    "def insert_person_to_db(cast_id, name, gender, known_for_department, popularity):\n",
    "    mycursor = mydb.cursor()\n",
    "\n",
    "    sql = \"INSERT IGNORE INTO PERSON (ID,Name,Gender,Known_For_Department,Popularity) VALUES (%s, %s, %s, %s, %s)\"\n",
    "    val = (cast_id, name, gender, known_for_department, popularity)\n",
    "    mycursor.execute(sql, val)\n",
    "\n",
    "    mydb.commit()"
   ]
  },
  {
   "cell_type": "code",
   "execution_count": 7,
   "id": "organic-thanksgiving",
   "metadata": {},
   "outputs": [],
   "source": [
    "def insert_cast_to_db(series_id,person_id,character):\n",
    "    mycursor = mydb.cursor()\n",
    "\n",
    "    sql = \"INSERT IGNORE INTO CAST (Series_ID,Person_ID,Type,Character_Name) VALUES (%s, %s, %s, %s)\"\n",
    "    val = (series_id,person_id,'Cast',character)\n",
    "    mycursor.execute(sql, val)\n",
    "    \n",
    "    mydb.commit()"
   ]
  },
  {
   "cell_type": "code",
   "execution_count": 8,
   "id": "brutal-constraint",
   "metadata": {},
   "outputs": [],
   "source": [
    "def insert_crew_to_db(series_id,person_id):\n",
    "    mycursor = mydb.cursor()\n",
    "\n",
    "    sql = \"INSERT IGNORE INTO CAST (Series_ID,Person_ID,Type) VALUES (%s, %s, %s)\"\n",
    "    val = (series_id,person_id,'Crew')\n",
    "    mycursor.execute(sql, val)\n",
    "\n",
    "    mydb.commit()"
   ]
  },
  {
   "cell_type": "code",
   "execution_count": 9,
   "id": "requested-exhaust",
   "metadata": {},
   "outputs": [],
   "source": [
    "# Get every series from database\n",
    "def get_every_series_from_db(mydb):\n",
    "    mycursor = mydb.cursor()\n",
    "\n",
    "    mycursor.execute(\"SELECT * FROM TV_SERIES\")\n",
    "\n",
    "    myresult = mycursor.fetchall()\n",
    "\n",
    "    for x in myresult:\n",
    "        print(x)\n",
    "        print('')"
   ]
  },
  {
   "cell_type": "code",
   "execution_count": 10,
   "id": "familiar-samba",
   "metadata": {},
   "outputs": [],
   "source": [
    "# Get every person from database\n",
    "def get_every_person_from_db(mydb):\n",
    "    mycursor = mydb.cursor()\n",
    "\n",
    "    mycursor.execute(\"SELECT * FROM PERSON\")\n",
    "\n",
    "    myresult = mycursor.fetchall()\n",
    "\n",
    "    print(\"Number of results: \", len(myresult))\n",
    "\n",
    "    for x in myresult:\n",
    "        print(x)"
   ]
  },
  {
   "cell_type": "code",
   "execution_count": 11,
   "id": "exempt-impossible",
   "metadata": {},
   "outputs": [],
   "source": [
    "# Get every cast from database\n",
    "def get_every_cast_from_db(mydb):\n",
    "    mycursor = mydb.cursor()\n",
    "\n",
    "    mycursor.execute(\"SELECT * FROM CAST\")\n",
    "\n",
    "    myresult = mycursor.fetchall()\n",
    "\n",
    "    print(len(myresult))\n",
    "\n",
    "    for x in myresult:\n",
    "        print(x)"
   ]
  },
  {
   "cell_type": "code",
   "execution_count": 12,
   "id": "alpha-columbus",
   "metadata": {},
   "outputs": [],
   "source": [
    "# Execute any query\n",
    "def query_executer(query):\n",
    "    mycursor = mydb.cursor()\n",
    "\n",
    "    mycursor.execute(query)\n",
    "\n",
    "    myresult = mycursor.fetchall()\n",
    "\n",
    "    print(\"Number of results: \", len(myresult))\n",
    "\n",
    "    for x in myresult:\n",
    "        print(x)"
   ]
  },
  {
   "cell_type": "code",
   "execution_count": 13,
   "id": "amended-bachelor",
   "metadata": {},
   "outputs": [],
   "source": [
    "mydb = connect_to_db()"
   ]
  },
  {
   "cell_type": "code",
   "execution_count": 14,
   "id": "charming-newman",
   "metadata": {},
   "outputs": [],
   "source": [
    "#Setting the filtering query\n",
    "\n",
    "prefix = 'https://api.themoviedb.org/3/discover/tv?'\n",
    "API_key = 'b8f5ea4374a732cdb90a9457176f7034'\n",
    "minimum_vote_count = '750'\n",
    "minimum_vote_average = '8.3'\n",
    "provider_name = 'Amazon%20Prime%20Video'\n",
    "watch_region = 'TR'\n",
    "sort_by = 'first_air_date.asc'\n",
    "page = 1\n",
    "\n",
    "query = prefix\n",
    "query += 'api_key=' + API_key\n",
    "query += '&vote_count.gte=' + minimum_vote_count \n",
    "query += '&vote_average.gte=' + minimum_vote_average \n",
    "query += '&provider_name=' + provider_name \n",
    "query += '&watch_region=' + watch_region \n",
    "query += '&page=' + str(page)\n",
    "query += '&sort_by=' + sort_by"
   ]
  },
  {
   "cell_type": "code",
   "execution_count": 15,
   "id": "further-architect",
   "metadata": {
    "scrolled": true
   },
   "outputs": [],
   "source": [
    "#Getting series ids according to filter\n",
    "text = get_json_data(query)\n",
    "list_series_ids = [] # list of the series ids\n",
    "if text != 'Error':\n",
    "    dataset = json.loads(text)\n",
    "    count = 0\n",
    "    i = 0;\n",
    "    while(count < 3):\n",
    "        if(provider_checker(dataset['results'][i]['id'],API_key)):\n",
    "            list_series_ids.append(dataset['results'][i]['id'])\n",
    "            count += 1\n",
    "        i += 1\n",
    "        if(i == 20):\n",
    "            page +=1\n",
    "            query = 'https://api.themoviedb.org/3/discover/tv?'\n",
    "            query += 'api_key=' + API_key\n",
    "            query += '&vote_count.gte=' + minimum_vote_count \n",
    "            query += '&vote_average.gte=' + minimum_vote_average \n",
    "            query += '&provider_name=' + provider_name \n",
    "            query += '&watch_region=' + watch_region \n",
    "            query += '&page=' + str(page)\n",
    "            query += '&sort_by=' + sort_by\n",
    "            text = get_json_data(query)\n",
    "            dataset = json.loads(text)\n",
    "            i=0"
   ]
  },
  {
   "cell_type": "code",
   "execution_count": 16,
   "id": "champion-tennessee",
   "metadata": {
    "scrolled": true
   },
   "outputs": [
    {
     "name": "stdout",
     "output_type": "stream",
     "text": [
      "Related Links:\n",
      "https://api.themoviedb.org/3/tv/4087?api_key=b8f5ea4374a732cdb90a9457176f7034\n",
      "https://api.themoviedb.org/3/tv/1408?api_key=b8f5ea4374a732cdb90a9457176f7034\n",
      "https://api.themoviedb.org/3/tv/2316?api_key=b8f5ea4374a732cdb90a9457176f7034\n"
     ]
    }
   ],
   "source": [
    "#Getting the asked information of the first 3 series\n",
    "list_series_details = []\n",
    "print(\"Related Links:\")\n",
    "for i in range (3):\n",
    "    query = 'https://api.themoviedb.org/3/tv/'\n",
    "    query += str(list_series_ids[i])\n",
    "    query += '?api_key=' + API_key\n",
    "    print(query)\n",
    "    text = get_json_data(query)\n",
    "    if text != 'Error':\n",
    "        dataset = json.loads(text)\n",
    "        series_id = dataset['id']\n",
    "        name = dataset['name'] \n",
    "        overview = dataset['overview'] \n",
    "        number_of_seasons = dataset['number_of_seasons'] \n",
    "        number_of_episodes = dataset['number_of_episodes'] \n",
    "        popularity = dataset['popularity'] \n",
    "        vote_average = dataset['vote_average'] \n",
    "        vote_count = dataset['vote_count'] \n",
    "        first_air_date = dataset['first_air_date'] \n",
    "        last_air_date = dataset['last_air_date'] \n",
    "        status = dataset['status']\n",
    "        \n",
    "        insert_series_to_db(series_id, name, overview, number_of_seasons, number_of_episodes, \n",
    "                popularity, vote_average,vote_count, first_air_date, last_air_date, status)\n",
    "        \n",
    "        \n",
    "        result = [series_id, name, overview, number_of_seasons, number_of_episodes, \n",
    "                  popularity, vote_average,vote_count, first_air_date, last_air_date, status]\n",
    "        \n",
    "        list_series_details.append(result)"
   ]
  },
  {
   "cell_type": "code",
   "execution_count": 17,
   "id": "bored-equity",
   "metadata": {},
   "outputs": [
    {
     "name": "stdout",
     "output_type": "stream",
     "text": [
      "(1408, 'House', 'Dr. Gregory House, a drug-addicted, unconventional, misanthropic medical genius, leads a team of diagnosticians at the fictional Princeton–Plainsboro Teaching Hospital in New Jersey.', 8, 177, 320.944, 8.6, 3814, datetime.date(2004, 11, 16), datetime.date(2012, 5, 21), 'Ended')\n",
      "\n",
      "(2316, 'The Office', 'The everyday lives of office employees in the Scranton, Pennsylvania branch of the fictional Dunder Mifflin Paper Company.', 9, 195, 172.149, 8.5, 1795, datetime.date(2005, 3, 24), datetime.date(2013, 5, 16), 'Ended')\n",
      "\n",
      "(4087, 'The X-Files', \"The exploits of FBI Special Agents Fox Mulder and Dana Scully who investigate X-Files: marginalized, unsolved cases involving paranormal phenomena. Mulder believes in the existence of aliens and the paranormal while Scully, a skeptic, is assigned to make scientific analyses of Mulder's discoveries that debunk Mulder's work and thus return him to mainstream cases.\", 11, 218, 130.652, 8.4, 1923, datetime.date(1993, 9, 10), datetime.date(2018, 3, 21), 'Ended')\n",
      "\n"
     ]
    }
   ],
   "source": [
    "get_every_series_from_db(mydb)"
   ]
  },
  {
   "cell_type": "code",
   "execution_count": 18,
   "id": "covered-jewelry",
   "metadata": {
    "scrolled": true
   },
   "outputs": [
    {
     "name": "stdout",
     "output_type": "stream",
     "text": [
      "Related Links:\n",
      "https://api.themoviedb.org/3/tv/4087/credits?api_key=b8f5ea4374a732cdb90a9457176f7034\n",
      "https://api.themoviedb.org/3/tv/1408/credits?api_key=b8f5ea4374a732cdb90a9457176f7034\n",
      "https://api.themoviedb.org/3/tv/2316/credits?api_key=b8f5ea4374a732cdb90a9457176f7034\n"
     ]
    }
   ],
   "source": [
    "#Getting the cast information of the first 3 series\n",
    "list_casts = []\n",
    "list_crews = []\n",
    "print(\"Related Links:\")\n",
    "for j in range (3):\n",
    "    query = 'https://api.themoviedb.org/3/tv/'\n",
    "    query += str(list_series_ids[j]) + '/credits'\n",
    "    query += '?api_key=' + API_key\n",
    "    print(query)\n",
    "    text = get_json_data(query)\n",
    "    if text != 'Error':\n",
    "        list_cast = []\n",
    "        list_casts.append(list_cast)\n",
    "        list_crew = []\n",
    "        list_crews.append(list_crew)\n",
    "        dataset = json.loads(text)\n",
    "        i=0\n",
    "        while(1):\n",
    "            try:\n",
    "                cast_id = dataset['cast'][i]['id']\n",
    "                name = dataset['cast'][i]['name'] \n",
    "                gender = dataset['cast'][i]['gender'] \n",
    "                known_for_department = dataset['cast'][i]['known_for_department'] \n",
    "                popularity = dataset['cast'][i]['popularity']\n",
    "                character = dataset['cast'][i]['character']\n",
    "                \n",
    "                insert_person_to_db(cast_id, name, gender, known_for_department, popularity)\n",
    "                insert_cast_to_db(list_series_ids[j],cast_id,character)\n",
    "                    \n",
    "                result = [cast_id, name, gender, known_for_department, popularity]\n",
    "                list_casts[j].append(result)\n",
    "                i+=1\n",
    "            except:\n",
    "                break\n",
    "        i=0\n",
    "        while(1):\n",
    "            try:\n",
    "                crew_id = dataset['crew'][i]['id']\n",
    "                name = dataset['crew'][i]['name'] \n",
    "                gender = dataset['crew'][i]['gender'] \n",
    "                known_for_department = dataset['crew'][i]['known_for_department'] \n",
    "                popularity = dataset['crew'][i]['popularity']\n",
    "                \n",
    "                insert_person_to_db(crew_id, name, gender, known_for_department, popularity)\n",
    "                insert_crew_to_db(list_series_ids[j],crew_id)\n",
    "                \n",
    "                result = [crew_id, name, gender, known_for_department, popularity]\n",
    "                list_crews[j].append(result)\n",
    "                i+=1\n",
    "            except:\n",
    "                break"
   ]
  },
  {
   "cell_type": "code",
   "execution_count": 19,
   "id": "fancy-cleaners",
   "metadata": {},
   "outputs": [
    {
     "name": "stdout",
     "output_type": "stream",
     "text": [
      "Number of results:  61\n",
      "(2151, 'Amy Lippens', 1, 'Production', 0.84)\n",
      "(2692, 'Robert Sean Leonard', 2, 'Acting', 5.902)\n",
      "(4495, 'Steve Carell', 2, 'Acting', 9.399)\n",
      "(4987, 'Omar Epps', 2, 'Acting', 2.578)\n",
      "(9032, 'Bryan Singer', 2, 'Directing', 4.262)\n",
      "(11678, 'Rainn Wilson', 2, 'Acting', 4.987)\n",
      "(12214, 'Gillian Anderson', 1, 'Acting', 6.851)\n",
      "(12256, 'Gerrit van der Meer', 2, 'Production', 0.6)\n",
      "(12640, 'David Duchovny', 2, 'Acting', 2.262)\n",
      "(12644, 'Mitch Pileggi', 2, 'Acting', 4.108)\n",
      "(17697, 'John Krasinski', 2, 'Acting', 9.157)\n",
      "(17835, 'Ricky Gervais', 2, 'Acting', 3.548)\n",
      "(27105, 'Ed Helms', 2, 'Acting', 6.241)\n",
      "(29009, 'Ken Kwapis', 2, 'Directing', 0.84)\n",
      "(31514, 'Peter Jacobson', 2, 'Acting', 3.79)\n",
      "(39189, 'Stephen Merchant', 2, 'Acting', 2.228)\n",
      "(41419, 'Hugh Laurie', 2, 'Acting', 4.203)\n",
      "(41422, 'Jesse Spencer', 2, 'Acting', 3.469)\n",
      "(41424, 'Katie Jacobs', 1, 'Production', 0.6)\n",
      "(45543, 'Paul Attanasio', 2, 'Writing', 0.628)\n",
      "(51856, 'Jenna Fischer', 1, 'Acting', 5.399)\n",
      "(51992, 'Odette Annable', 1, 'Acting', 9.314)\n",
      "(58274, 'Howard Klein', 0, 'Production', 0.608)\n",
      "(58403, 'Glen Morgan', 2, 'Writing', 2.689)\n",
      "(84416, 'Gene Stupnitsky', 2, 'Writing', 0.84)\n",
      "(84417, 'Lee Eisenberg', 2, 'Writing', 0.6)\n",
      "(93285, 'Charlyne Yi', 1, 'Acting', 7.074)\n",
      "(107770, 'B.J. Novak', 2, 'Acting', 3.671)\n",
      "(114407, 'Garrett Lerner', 2, 'Writing', 0.6)\n",
      "(125167, 'Mindy Kaling', 1, 'Acting', 2.77)\n",
      "(169061, 'David Shore', 2, 'Writing', 1.851)\n",
      "(1035869, 'Ben Silverman', 2, 'Production', 1.528)\n",
      "(1213125, 'Paul Lieberstein', 2, 'Writing', 3.022)\n",
      "(1213567, 'Russel Friend', 2, 'Writing', 1.176)\n",
      "(1216625, 'Daniel Chun', 2, 'Writing', 0.6)\n",
      "(1216630, 'Greg Daniels', 2, 'Writing', 0.6)\n",
      "(1217228, 'Steve Hely', 0, 'Writing', 0.6)\n",
      "(1220649, 'Jennifer Celotta', 1, 'Writing', 0.6)\n",
      "(1221087, 'Dan Sterling', 2, 'Writing', 0.6)\n",
      "(1223964, 'Peter Blake', 2, 'Production', 1.22)\n",
      "(1223966, 'Thomas L. Moran', 2, 'Writing', 1.214)\n",
      "(1223981, 'Dustin Paddock', 0, 'Writing', 0.6)\n",
      "(1224008, 'Marcy G. Kaplan', 1, 'Production', 1.094)\n",
      "(1225604, 'Warren Lieberstein', 0, 'Writing', 1.128)\n",
      "(1226276, 'Charlie Grandy', 2, 'Writing', 0.652)\n",
      "(1226308, 'Michael Schur', 2, 'Creator', 1.22)\n",
      "(1229493, 'Aaron Shure', 2, 'Writing', 0.6)\n",
      "(1230847, 'Justin Spitzer', 2, 'Writing', 0.98)\n",
      "(1230848, 'Halsted Sullivan', 2, 'Writing', 0.6)\n",
      "(1230854, 'Peter Ocko', 2, 'Writing', 1.128)\n",
      "(1230857, 'Randy Cordray', 2, 'Production', 0.6)\n",
      "(1230858, 'Kent Zbornak', 0, 'Production', 0.6)\n",
      "(1230859, 'Teri Weinberg', 0, 'Production', 0.694)\n",
      "(1488571, 'Elan Soltes', 0, 'Visual Effects', 0.694)\n",
      "(1493983, 'Jon Ehrlich', 0, 'Sound', 0.677)\n",
      "(1533790, 'Ira Hurvitz', 0, 'Directing', 1.442)\n",
      "(1577074, 'Michael Lyle', 0, 'Sound', 0.6)\n",
      "(1604953, 'Jason Derlatka', 2, 'Sound', 0.6)\n",
      "(1604955, 'Cathy Crandall', 0, 'Costume & Make-Up', 0.6)\n",
      "(1622443, 'Michael Baber', 0, 'Sound', 0.828)\n",
      "(1646234, 'Steve De Leon', 0, 'Crew', 0.6)\n"
     ]
    }
   ],
   "source": [
    "get_every_person_from_db(mydb)"
   ]
  },
  {
   "cell_type": "code",
   "execution_count": 20,
   "id": "visible-laser",
   "metadata": {},
   "outputs": [
    {
     "name": "stdout",
     "output_type": "stream",
     "text": [
      "62\n",
      "(1408, 2151, 'Crew', None)\n",
      "(1408, 2692, 'Cast', 'James Wilson')\n",
      "(1408, 4987, 'Cast', 'Eric Foreman')\n",
      "(1408, 9032, 'Crew', None)\n",
      "(1408, 12256, 'Crew', None)\n",
      "(1408, 31514, 'Cast', 'Chris Taub')\n",
      "(1408, 41419, 'Cast', 'Gregory House')\n",
      "(1408, 41422, 'Cast', 'Robert Chase')\n",
      "(1408, 41424, 'Crew', None)\n",
      "(1408, 45543, 'Crew', None)\n",
      "(1408, 51992, 'Cast', 'Jessica Adams')\n",
      "(1408, 93285, 'Cast', 'Chi Park')\n",
      "(1408, 114407, 'Crew', None)\n",
      "(1408, 169061, 'Crew', None)\n",
      "(1408, 1213567, 'Crew', None)\n",
      "(1408, 1223964, 'Crew', None)\n",
      "(1408, 1223966, 'Crew', None)\n",
      "(1408, 1223981, 'Crew', None)\n",
      "(1408, 1224008, 'Crew', None)\n",
      "(1408, 1488571, 'Crew', None)\n",
      "(1408, 1493983, 'Crew', None)\n",
      "(1408, 1533790, 'Crew', None)\n",
      "(1408, 1577074, 'Crew', None)\n",
      "(1408, 1604953, 'Crew', None)\n",
      "(1408, 1604955, 'Crew', None)\n",
      "(1408, 1622443, 'Crew', None)\n",
      "(1408, 1646234, 'Crew', None)\n",
      "(2316, 4495, 'Crew', None)\n",
      "(2316, 11678, 'Cast', 'Dwight Schrute')\n",
      "(2316, 17697, 'Cast', 'Jim Halpert')\n",
      "(2316, 17835, 'Crew', None)\n",
      "(2316, 27105, 'Cast', 'Andy Bernard')\n",
      "(2316, 29009, 'Crew', None)\n",
      "(2316, 39189, 'Crew', None)\n",
      "(2316, 51856, 'Cast', 'Pam Beesly')\n",
      "(2316, 58274, 'Crew', None)\n",
      "(2316, 84416, 'Crew', None)\n",
      "(2316, 84417, 'Crew', None)\n",
      "(2316, 107770, 'Crew', None)\n",
      "(2316, 125167, 'Crew', None)\n",
      "(2316, 1035869, 'Crew', None)\n",
      "(2316, 1213125, 'Crew', None)\n",
      "(2316, 1216625, 'Crew', None)\n",
      "(2316, 1216630, 'Crew', None)\n",
      "(2316, 1217228, 'Crew', None)\n",
      "(2316, 1220649, 'Crew', None)\n",
      "(2316, 1221087, 'Crew', None)\n",
      "(2316, 1225604, 'Crew', None)\n",
      "(2316, 1226276, 'Crew', None)\n",
      "(2316, 1226308, 'Crew', None)\n",
      "(2316, 1229493, 'Crew', None)\n",
      "(2316, 1230847, 'Crew', None)\n",
      "(2316, 1230848, 'Crew', None)\n",
      "(2316, 1230854, 'Crew', None)\n",
      "(2316, 1230857, 'Crew', None)\n",
      "(2316, 1230858, 'Crew', None)\n",
      "(2316, 1230859, 'Crew', None)\n",
      "(4087, 2692, 'Cast', 'Huveyscan Kamar')\n",
      "(4087, 12214, 'Cast', 'Dana Scully')\n",
      "(4087, 12640, 'Cast', 'Fox Mulder')\n",
      "(4087, 12644, 'Cast', 'Walter Skinner')\n",
      "(4087, 58403, 'Crew', None)\n"
     ]
    }
   ],
   "source": [
    "get_every_cast_from_db(mydb)"
   ]
  },
  {
   "cell_type": "markdown",
   "id": "pacific-strength",
   "metadata": {},
   "source": [
    "# SQL DESIGN"
   ]
  },
  {
   "cell_type": "markdown",
   "id": "furnished-young",
   "metadata": {},
   "source": [
    "# SQL Queries"
   ]
  },
  {
   "attachments": {},
   "cell_type": "markdown",
   "id": "previous-increase",
   "metadata": {},
   "source": [
    "### 1-  \n",
    "    SELECT * FROM PERSON ORDER BY Popularity DESC  LIMIT 10;\n",
    "#### Link: https://drive.google.com/file/d/1qkF-2F9JpBgNs-ZkjTC1-9CMGFzm_Aha/view?usp=sharing"
   ]
  },
  {
   "cell_type": "markdown",
   "id": "official-pepper",
   "metadata": {},
   "source": [
    "### 2- \n",
    "    SET @row_number = 0;\n",
    "    SELECT \n",
    "        (@row_number:=@row_number + 1) AS 'Popularity Order',\n",
    "        Name AS 'Actress/Actor Name', \n",
    "        CASE \n",
    "            WHEN GENDER = 1 THEN \"Female\" \n",
    "            ELSE \"Male\" \n",
    "        END AS Gender\n",
    "     FROM PERSON ORDER BY Popularity DESC  LIMIT 10;\n",
    "     \n",
    "#### Link: https://drive.google.com/file/d/1eD29M-BZKkCqX1XsTEe25HhXukP71wqZ/view?usp=sharing"
   ]
  },
  {
   "cell_type": "markdown",
   "id": "bridal-automation",
   "metadata": {},
   "source": [
    "### 3-\n",
    "    SELECT p.Name, s.Name, c.Character_Name FROM PERSON p \n",
    "    INNER JOIN CAST c ON c.Person_ID = p.ID\n",
    "    INNER JOIN TV_SERIES s ON s.ID = c.Series_ID\n",
    "    Where p.ID IN(\n",
    "    SELECT p.ID FROM PERSON p \n",
    "    INNER JOIN CAST c ON c.Person_ID = p.ID\n",
    "    INNER JOIN TV_SERIES s ON s.ID = c.Series_ID\n",
    "    GROUP BY p.Name\n",
    "    HAVING Count(p.ID)>1);\n",
    "\n",
    "    #INSERT INTO CAST (Series_ID,Person_ID,Type,Character_Name) VALUES (4087,2692,'Cast','Huveyscan Kamar');\n",
    "    \n",
    "#### Link: https://drive.google.com/file/d/1Yb6rcyKxEwU3vhN9HjhyxnAfOJRc9wLN/view?usp=sharing"
   ]
  },
  {
   "cell_type": "markdown",
   "id": "outstanding-history",
   "metadata": {},
   "source": [
    "### 4-\n",
    "\n",
    "    SET @row_number = 0;\n",
    "    SELECT \n",
    "    (SELECT (@row_number:=@row_number + 1)) AS 'Popularity Order',\n",
    "    (SELECT Name FROM PERSON WHERE Known_For_Department = 'Acting' ORDER BY Popularity DESC LIMIT 1) AS Acting,\n",
    "    (SELECT Name FROM PERSON WHERE Known_For_Department = 'Directing' ORDER BY Popularity DESC LIMIT 1) AS Directing,\n",
    "    (SELECT Name FROM PERSON WHERE Known_For_Department = 'Writing' ORDER BY Popularity DESC LIMIT 1) AS Writing\n",
    "    UNION\n",
    "    SELECT \n",
    "    (SELECT (@row_number:=@row_number + 1)) AS 'Popularity Order',\n",
    "    (SELECT Name FROM PERSON WHERE Known_For_Department = 'Acting' ORDER BY Popularity DESC LIMIT 1,1) AS Acting,\n",
    "    (SELECT Name FROM PERSON WHERE Known_For_Department = 'Directing' ORDER BY Popularity DESC LIMIT 1,1) AS Directing,\n",
    "    (SELECT Name FROM PERSON WHERE Known_For_Department = 'Writing' ORDER BY Popularity DESC  LIMIT 1,1) AS Writing\n",
    "    UNION\n",
    "    SELECT \n",
    "    (SELECT (@row_number:=@row_number + 1)) AS 'Popularity Order',\n",
    "    (SELECT Name FROM PERSON WHERE Known_For_Department = 'Acting' ORDER BY Popularity DESC LIMIT 2,1) AS Acting,\n",
    "    (SELECT Name FROM PERSON WHERE Known_For_Department = 'Directing' ORDER BY Popularity DESC LIMIT 2,1) AS Directing,\n",
    "    (SELECT Name FROM PERSON WHERE Known_For_Department = 'Writing' ORDER BY Popularity DESC  LIMIT 2,1) AS Writing;\n",
    "\n",
    "#### Link: https://drive.google.com/file/d/1xqd-nyq5czYFVSKEJYMEvo3ctkJ-BjAV/view?usp=sharing"
   ]
  }
 ],
 "metadata": {
  "kernelspec": {
   "display_name": "Python 3",
   "language": "python",
   "name": "python3"
  },
  "language_info": {
   "codemirror_mode": {
    "name": "ipython",
    "version": 3
   },
   "file_extension": ".py",
   "mimetype": "text/x-python",
   "name": "python",
   "nbconvert_exporter": "python",
   "pygments_lexer": "ipython3",
   "version": "3.8.5"
  }
 },
 "nbformat": 4,
 "nbformat_minor": 5
}
